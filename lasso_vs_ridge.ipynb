{
 "cells": [
  {
   "cell_type": "markdown",
   "id": "17781cdb",
   "metadata": {},
   "source": [
    "### Libraries"
   ]
  },
  {
   "cell_type": "code",
   "execution_count": 178,
   "id": "befacc44",
   "metadata": {},
   "outputs": [],
   "source": [
    "import pandas as pd\n",
    "from sklearn.model_selection import train_test_split\n",
    "from sklearn.linear_model import LinearRegression, Lasso, Ridge\n",
    "from sklearn.metrics import mean_squared_error"
   ]
  },
  {
   "cell_type": "markdown",
   "id": "e2f84678",
   "metadata": {},
   "source": [
    "### Reading the data"
   ]
  },
  {
   "cell_type": "code",
   "execution_count": 179,
   "id": "95c8dc05",
   "metadata": {},
   "outputs": [
    {
     "name": "stdout",
     "output_type": "stream",
     "text": [
      "       CRIM    ZN  INDUS  CHAS    NOS     RM   AGE     DIS  RAD    TAX  \\\n",
      "0   0.00632  18.0   2.31     0  0.538  6.575  65.2  4.0900    1  296.0   \n",
      "1   0.02731   0.0   7.07     0  0.469  6.421  78.9  4.9671    2  242.0   \n",
      "2   0.02729   0.0   7.07     0  0.469  7.185  61.1  4.9671    2  242.0   \n",
      "3   0.03237   0.0   2.18     0  0.458  6.998  45.8  6.0622    3  222.0   \n",
      "4   0.06905   0.0   2.18     0  0.458  7.147  54.2  6.0622    3  222.0   \n",
      "..      ...   ...    ...   ...    ...    ...   ...     ...  ...    ...   \n",
      "95  0.12204   0.0   2.89     0  0.445  6.625  57.8  3.4952    2  276.0   \n",
      "96  0.11504   0.0   2.89     0  0.445  6.163  69.6  3.4952    2  276.0   \n",
      "97  0.12083   0.0   2.89     0  0.445  8.069  76.0  3.4952    2  276.0   \n",
      "98  0.08187   0.0   2.89     0  0.445  7.820  36.9  3.4952    2  276.0   \n",
      "99  0.06860   0.0   2.89     0  0.445  7.416  62.5  3.4952    2  276.0   \n",
      "\n",
      "    PTRATIO       B  LSTAT  MEDV  \n",
      "0      15.3  396.90   4.98  24.0  \n",
      "1      17.8  396.90   9.14  21.6  \n",
      "2      17.8  392.83   4.03  34.7  \n",
      "3      18.7  394.63   2.94  33.4  \n",
      "4      18.7  396.90   5.33  36.2  \n",
      "..      ...     ...    ...   ...  \n",
      "95     18.0  357.98   6.65  28.4  \n",
      "96     18.0  391.83  11.34  21.4  \n",
      "97     18.0  396.90   4.21  38.7  \n",
      "98     18.0  393.53   3.57  43.8  \n",
      "99     18.0  396.90   6.19  33.2  \n",
      "\n",
      "[100 rows x 14 columns]\n"
     ]
    }
   ],
   "source": [
    "colnames = [\"CRIM\", \"ZN\", \"INDUS\", \"CHAS\", \"NOS\", \"RM\", \"AGE\",\"DIS\",\"RAD\",\"TAX\", \"PTRATIO\",\"B\",\"LSTAT\",\"MEDV\"]\n",
    "\n",
    "df = pd.read_csv('housing.csv', delim_whitespace=True, header=None, names=colnames).head(100)\n",
    "\n",
    "print(df)"
   ]
  },
  {
   "cell_type": "markdown",
   "id": "22ea500f",
   "metadata": {},
   "source": [
    "### Separating target and features + train test split"
   ]
  },
  {
   "cell_type": "code",
   "execution_count": 180,
   "id": "b93ad331",
   "metadata": {},
   "outputs": [
    {
     "name": "stdout",
     "output_type": "stream",
     "text": [
      "(80, 13)\n",
      "(20, 13)\n",
      "(80, 1)\n",
      "(20, 1)\n"
     ]
    }
   ],
   "source": [
    "target= [\"MEDV\"]\n",
    "features = [\"CRIM\", \"ZN\", \"INDUS\", \"CHAS\", \"NOS\", \"RM\", \"AGE\",\"DIS\",\"RAD\",\"TAX\", \"PTRATIO\",\"B\",\"LSTAT\"]\n",
    "\n",
    "y = df[target]\n",
    "X = df[features]\n",
    "\n",
    "X_train, X_test, y_train, y_test = train_test_split(X, y, test_size = 0.2, random_state=5)\n",
    "print(X_train.shape)\n",
    "print(X_test.shape)\n",
    "print(y_train.shape)\n",
    "print(y_test.shape)"
   ]
  },
  {
   "cell_type": "markdown",
   "id": "22e49b4a",
   "metadata": {},
   "source": [
    "### Linear Regression"
   ]
  },
  {
   "cell_type": "code",
   "execution_count": 181,
   "id": "834ad4e2",
   "metadata": {},
   "outputs": [
    {
     "name": "stdout",
     "output_type": "stream",
     "text": [
      "6.365734149051926\n"
     ]
    }
   ],
   "source": [
    "linear_reg = LinearRegression()\n",
    "linear_reg.fit(X_train, y_train)\n",
    "\n",
    "y_pred = linear_reg.predict(X_test)\n",
    "mse_linear = mean_squared_error(y_pred, y_test)\n",
    "\n",
    "print(mse_linear)"
   ]
  },
  {
   "cell_type": "code",
   "execution_count": 182,
   "id": "2d336ca8",
   "metadata": {},
   "outputs": [
    {
     "name": "stdout",
     "output_type": "stream",
     "text": [
      "[[-4.72182649e+00 -5.72291982e-03 -1.22443616e-01  1.94280017e-12\n",
      "   3.33076169e+01  9.37669521e+00 -9.41315572e-02  1.73184141e-01\n",
      "  -1.98303418e-01 -5.27579383e-03  2.16094990e-01 -1.84195305e-03\n",
      "   1.30488826e-01]]\n"
     ]
    }
   ],
   "source": [
    "print(linear_reg.coef_)"
   ]
  },
  {
   "cell_type": "markdown",
   "id": "4bf08208",
   "metadata": {},
   "source": [
    "### Lasso Regression"
   ]
  },
  {
   "cell_type": "code",
   "execution_count": 183,
   "id": "7062ea93",
   "metadata": {},
   "outputs": [
    {
     "name": "stdout",
     "output_type": "stream",
     "text": [
      "Lasso MSE with Lambda=1e-06 is 6.365573187964432\n",
      "Lasso MSE with Lambda=0.0001 is 6.3497037030409\n",
      "Lasso MSE with Lambda=0.001 is 6.211388388151761\n",
      "Lasso MSE with Lambda=0.005 is 5.726363213840866\n",
      "Lasso MSE with Lambda=0.01 is 5.411548113524234\n",
      "Lasso MSE with Lambda=0.05 is 5.263737896443069\n",
      "Lasso MSE with Lambda=0.1 is 4.903847171765334\n",
      "Lasso MSE with Lambda=0.2 is 4.363168988410968\n",
      "Lasso MSE with Lambda=0.3 is 4.2516592908158914\n",
      "Lasso MSE with Lambda=0.4 is 4.569299505022656\n",
      "Lasso MSE with Lambda=0.5 is 5.316188931738344\n"
     ]
    }
   ],
   "source": [
    "lambda_values = [0.000001, 0.0001, 0.001, 0.005, 0.01, 0.05,  0.1, 0.2, 0.3, 0.4, 0.5]\n",
    "\n",
    "for lambda_val in lambda_values:\n",
    "    lasso_reg = Lasso(lambda_val)\n",
    "    lasso_reg.fit(X_train, y_train)\n",
    "    y_pred = lasso_reg.predict(X_test)\n",
    "    mse_lasso = mean_squared_error(y_pred, y_test)\n",
    "    print((\"Lasso MSE with Lambda={} is {}\").format(lambda_val, mse_lasso))"
   ]
  },
  {
   "cell_type": "code",
   "execution_count": 184,
   "id": "170d8cae",
   "metadata": {},
   "outputs": [
    {
     "name": "stdout",
     "output_type": "stream",
     "text": [
      "[-0.         -0.00465237 -0.20754173  0.         -0.          4.1765001\n",
      " -0.04301186 -0.         -0.         -0.01274246 -0.2694468   0.01186561\n",
      " -0.27931101]\n"
     ]
    }
   ],
   "source": [
    "print(lasso_reg.coef_)"
   ]
  },
  {
   "cell_type": "markdown",
   "id": "3f07647e",
   "metadata": {},
   "source": [
    "### Ridge Regression"
   ]
  },
  {
   "cell_type": "code",
   "execution_count": 185,
   "id": "f977604a",
   "metadata": {},
   "outputs": [
    {
     "name": "stdout",
     "output_type": "stream",
     "text": [
      "Lasso MSE with Lambda=1e-05 is 6.36516470349015\n",
      "Lasso MSE with Lambda=0.01 is 5.974605793676387\n",
      "Lasso MSE with Lambda=0.05 is 5.533200380976024\n",
      "Lasso MSE with Lambda=0.1 is 5.3925069171769575\n",
      "Lasso MSE with Lambda=0.5 is 4.958888346329863\n",
      "Lasso MSE with Lambda=1 is 4.6099591818212575\n",
      "Lasso MSE with Lambda=1.5 is 4.381430640413449\n",
      "Lasso MSE with Lambda=3 is 4.144021177550216\n",
      "Lasso MSE with Lambda=5 is 4.337309782014395\n",
      "Lasso MSE with Lambda=6 is 4.523375817049083\n",
      "Lasso MSE with Lambda=7 is 4.733551913450155\n",
      "Lasso MSE with Lambda=8 is 4.954202530190625\n",
      "Lasso MSE with Lambda=9 is 5.177084341160097\n",
      "Lasso MSE with Lambda=10 is 5.397233430913719\n"
     ]
    }
   ],
   "source": [
    "lambda_values = [0.00001, 0.01, 0.05, 0.1, 0.5, 1, 1.5, 3, 5, 6, 7, 8, 9, 10]\n",
    "\n",
    "for lambda_val in lambda_values:\n",
    "    ridge_reg = Ridge(lambda_val)\n",
    "    ridge_reg.fit(X_train, y_train)\n",
    "    y_pred = ridge_reg.predict(X_test)\n",
    "    mse_ridge = mean_squared_error(y_pred, y_test)\n",
    "    print((\"Lasso MSE with Lambda={} is {}\").format(lambda_val, mse_ridge))"
   ]
  },
  {
   "cell_type": "code",
   "execution_count": 186,
   "id": "1fb13b9f",
   "metadata": {},
   "outputs": [
    {
     "name": "stdout",
     "output_type": "stream",
     "text": [
      "[[-5.08790911e-01 -1.07642424e-02 -2.51669160e-01  0.00000000e+00\n",
      "   3.59195624e-03  3.76304412e+00 -3.71563298e-02  2.77184371e-02\n",
      "  -1.53559311e-01 -8.99656296e-03 -4.24245154e-01  5.34856750e-03\n",
      "  -3.22059452e-01]]\n"
     ]
    }
   ],
   "source": [
    "print(ridge_reg.coef_)"
   ]
  }
 ],
 "metadata": {
  "kernelspec": {
   "display_name": "Python 3 (ipykernel)",
   "language": "python",
   "name": "python3"
  },
  "language_info": {
   "codemirror_mode": {
    "name": "ipython",
    "version": 3
   },
   "file_extension": ".py",
   "mimetype": "text/x-python",
   "name": "python",
   "nbconvert_exporter": "python",
   "pygments_lexer": "ipython3",
   "version": "3.8.5"
  }
 },
 "nbformat": 4,
 "nbformat_minor": 5
}
